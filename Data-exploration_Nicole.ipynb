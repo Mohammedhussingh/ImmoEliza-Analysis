{
 "cells": [
  {
   "cell_type": "markdown",
   "metadata": {},
   "source": [
    "# ImmoWeb Data Exploration\n",
    "## Imports"
   ]
  },
  {
   "cell_type": "code",
   "execution_count": 38,
   "metadata": {},
   "outputs": [],
   "source": [
    "import pandas as pd\n",
    "import matplotlib.pyplot as plt\n",
    "import seaborn as sns\n",
    "import folium\n",
    "from folium.plugins import HeatMap\n",
    "from sklearn.preprocessing import MinMaxScaler\n",
    "import numpy as np"
   ]
  },
  {
   "cell_type": "markdown",
   "metadata": {},
   "source": [
    "## Create dataframe with cleaned datset"
   ]
  },
  {
   "cell_type": "code",
   "execution_count": 39,
   "metadata": {},
   "outputs": [
    {
     "name": "stdout",
     "output_type": "stream",
     "text": [
      "Id                     int64\n",
      "Locality              object\n",
      "Type                  object\n",
      "SubType               object\n",
      "Price                  int64\n",
      "Bedrooms               int64\n",
      "Living_Area            int64\n",
      "Is_Equiped_Kitchen     int64\n",
      "Is_Furnished           int64\n",
      "Is_Open_Fire           int64\n",
      "Terrace                int64\n",
      "Terrace_Area           int64\n",
      "Garden                 int64\n",
      "Garden_Area            int64\n",
      "Land_Surface           int64\n",
      "State                 object\n",
      "Facades                int64\n",
      "Swim_pool              int64\n",
      "dtype: object\n"
     ]
    }
   ],
   "source": [
    "df = pd.read_csv('immo_cleaned_data.csv')\n",
    "print(df.dtypes)"
   ]
  },
  {
   "cell_type": "markdown",
   "metadata": {},
   "source": [
    "## 1. How many rows and columns?"
   ]
  },
  {
   "cell_type": "code",
   "execution_count": 40,
   "metadata": {},
   "outputs": [
    {
     "name": "stdout",
     "output_type": "stream",
     "text": [
      "Number of rows: 11301\n",
      "Number of columns: 18\n"
     ]
    }
   ],
   "source": [
    "rows, columns = df.shape\n",
    "\n",
    "print(f\"Number of rows: {rows}\")\n",
    "print(f\"Number of columns: {columns}\")"
   ]
  },
  {
   "cell_type": "markdown",
   "metadata": {},
   "source": [
    "## 2. What is the correlation between the variables and the price? (Why might that be?)"
   ]
  },
  {
   "cell_type": "code",
   "execution_count": null,
   "metadata": {},
   "outputs": [],
   "source": []
  },
  {
   "cell_type": "markdown",
   "metadata": {},
   "source": [
    "## 3. How are variables correlated to each other? (Why?)"
   ]
  },
  {
   "cell_type": "code",
   "execution_count": null,
   "metadata": {},
   "outputs": [],
   "source": []
  },
  {
   "cell_type": "markdown",
   "metadata": {},
   "source": [
    "## 4. Which variables have the greatest influence on the price?"
   ]
  },
  {
   "cell_type": "code",
   "execution_count": null,
   "metadata": {},
   "outputs": [],
   "source": []
  },
  {
   "cell_type": "markdown",
   "metadata": {},
   "source": [
    "## 5. Which variables have the least influence on the price?"
   ]
  },
  {
   "cell_type": "code",
   "execution_count": 41,
   "metadata": {},
   "outputs": [
    {
     "name": "stdout",
     "output_type": "stream",
     "text": [
      "Is_Furnished\n",
      "0    97.257581\n",
      "1     2.742419\n",
      "Name: proportion, dtype: float64\n"
     ]
    },
    {
     "data": {
      "image/png": "[encoded data removed]",
      "text/plain": [
       "<Figure size 640x480 with 1 Axes>"
      ]
     },
     "metadata": {},
     "output_type": "display_data"
    }
   ],
   "source": [
    "furnished_percentage = (df_map['Is_Furnished'].value_counts(normalize=True) * 100)\n",
    "print(furnished_percentage)\n",
    "\n",
    "labels = ['Not Furnished', 'Furnished']\n",
    "colours = ['#2a9d8f', '#e76f51']\n",
    "\n",
    "plt.pie(furnished_percentage, labels=labels, autopct='%1.1f%%', startangle=90, colors=colours)\n",
    "plt.title('Percentage of Furnished vs. Unfurnished Properties')\n",
    "plt.show()\n"
   ]
  },
  {
   "cell_type": "markdown",
   "metadata": {},
   "source": [
    "## 6. How many qualitative and quantitative variables are there? How would you transform these values into numerical values?"
   ]
  },
  {
   "cell_type": "code",
   "execution_count": 42,
   "metadata": {},
   "outputs": [
    {
     "name": "stdout",
     "output_type": "stream",
     "text": [
      "Number of Qualitative Variables: 4\n",
      "Number of Quantitative Variables: 14\n",
      "Qualitative Variables: ['Locality', 'Type', 'SubType', 'State']\n",
      "Quantitative Variables: ['Id', 'Price', 'Bedrooms', 'Living_Area', 'Is_Equiped_Kitchen', 'Is_Furnished', 'Is_Open_Fire', 'Terrace', 'Terrace_Area', 'Garden', 'Garden_Area', 'Land_Surface', 'Facades', 'Swim_pool']\n"
     ]
    }
   ],
   "source": [
    "dtypes = df.dtypes\n",
    "\n",
    "# qualitative (categorical) vs quantitative (numerical)\n",
    "qualitative_vars = dtypes[dtypes == 'object'].index.tolist()\n",
    "qualitative_vars += dtypes[dtypes == 'category'].index.tolist()\n",
    "quantitative_vars = dtypes[(dtypes == 'int64') | (dtypes == 'float64')].index.tolist()\n",
    "\n",
    "print(f\"Number of Qualitative Variables: {len(qualitative_vars)}\")\n",
    "print(f\"Number of Quantitative Variables: {len(quantitative_vars)}\")\n",
    "\n",
    "print(\"Qualitative Variables:\", qualitative_vars)\n",
    "print(\"Quantitative Variables:\", quantitative_vars)\n"
   ]
  },
  {
   "cell_type": "markdown",
   "metadata": {},
   "source": [
    "## 7. Percentage of missing values per column?"
   ]
  },
  {
   "cell_type": "code",
   "execution_count": 43,
   "metadata": {},
   "outputs": [
    {
     "name": "stdout",
     "output_type": "stream",
     "text": [
      "Id                    0.0\n",
      "Locality              0.0\n",
      "Type                  0.0\n",
      "SubType               0.0\n",
      "Price                 0.0\n",
      "Bedrooms              0.0\n",
      "Living_Area           0.0\n",
      "Is_Equiped_Kitchen    0.0\n",
      "Is_Furnished          0.0\n",
      "Is_Open_Fire          0.0\n",
      "Terrace               0.0\n",
      "Terrace_Area          0.0\n",
      "Garden                0.0\n",
      "Garden_Area           0.0\n",
      "Land_Surface          0.0\n",
      "State                 0.0\n",
      "Facades               0.0\n",
      "Swim_pool             0.0\n",
      "dtype: float64\n"
     ]
    }
   ],
   "source": [
    "#Already dealt with missing values via imputation.\n",
    "\n",
    "missing_percentage = df.isnull().sum() / len(df) * 100\n",
    "print(missing_percentage)\n"
   ]
  },
  {
   "cell_type": "markdown",
   "metadata": {},
   "source": [
    "# Must Answer\n",
    "- Plot the outliers.\n",
    "- Which variables would you delete and why ?\n",
    "- Represent the number of properties according to their surface using a histogram.\n",
    "- In your opinion, which 5 variables are the most important and why?\n",
    "- What are the most expensive municipalities in Belgium? (Average price, median price, price per square meter)\n",
    "- What are the most expensive municipalities in Wallonia? (Average price, median price, price per square meter)\n",
    "- What are the most expensive municipalities in Flanders? (Average price, median price, price per square meter)\n",
    "- What are the less expensive municipalities in Belgium? (Average price, median price, price per square meter)\n",
    "- What are the less expensive municipalities in Wallonia? (Average price, median price, price per square meter)\n",
    "- What are the less expensive municipalities in Flanders? (Average price, median price, price per square meter)"
   ]
  },
  {
   "cell_type": "markdown",
   "metadata": {},
   "source": [
    "## Plot the outliers\n",
    "\n",
    "### Land_Surface"
   ]
  },
  {
   "cell_type": "code",
   "execution_count": 44,
   "metadata": {},
   "outputs": [
    {
     "name": "stdout",
     "output_type": "stream",
     "text": [
      "Number of outliers: 1203\n"
     ]
    }
   ],
   "source": [
    "#IQR method\n",
    "\n",
    "Q1 = df['Land_Surface'].quantile(0.25)\n",
    "Q3 = df['Land_Surface'].quantile(0.75)\n",
    "\n",
    "IQR = Q3 - Q1\n",
    "\n",
    "lower_bound = Q1 - 1.5 * IQR\n",
    "upper_bound = Q3 + 1.5 * IQR\n",
    "\n",
    "outliers = df[(df['Land_Surface'] < lower_bound) | (df['Land_Surface'] > upper_bound)]\n",
    "print(f\"Number of outliers: {outliers.shape[0]}\")\n",
    "\n",
    "#print(outliers)\n",
    "\n",
    "# Exclude outliers\n",
    "df = df[(df['Land_Surface'] >= lower_bound) & (df['Land_Surface'] <= upper_bound)]\n"
   ]
  },
  {
   "cell_type": "markdown",
   "metadata": {},
   "source": [
    "## Which variables would you delete and why ?\n",
    "\n",
    "- Sale_Type: Only value is \"Private\" - not meaningful.\n",
    "- Surface of the plot: Over 50% empty values. Some values are smaller than Land_Surface. Suspect this got switched with Land_Surface during scraping phase of the project. \n",
    "- Removed category \"Other\" from \"Type\": Only interested in houses and apartments - not garages, covered parking, offices, etc."
   ]
  },
  {
   "cell_type": "markdown",
   "metadata": {},
   "source": [
    "## Represent the number of properties according to their surface using a histogram."
   ]
  },
  {
   "cell_type": "code",
   "execution_count": 45,
   "metadata": {},
   "outputs": [
    {
     "data": {
      "image/png": "[encoded data removed]",
      "text/plain": [
       "<Figure size 1000x600 with 1 Axes>"
      ]
     },
     "metadata": {},
     "output_type": "display_data"
    }
   ],
   "source": [
    "# KDE plot overlyed on histogram\n",
    "plt.figure(figsize=(10, 6))\n",
    "sns.histplot(df['Land_Surface'], bins=30, kde=True, edgecolor='black')\n",
    "plt.title('Distribution of Properties by Land Surface')\n",
    "plt.xlabel('Land Surface (sq meters)')\n",
    "plt.ylabel('Number of Properties')\n",
    "plt.show()"
   ]
  },
  {
   "cell_type": "markdown",
   "metadata": {},
   "source": [
    "Most properties are around 100 m²"
   ]
  },
  {
   "cell_type": "markdown",
   "metadata": {},
   "source": [
    "## - In your opinion, which 5 variables are the most important and why?\n",
    "\n",
    "1. Price:\n",
    "- Crucial for all analysis\n",
    "- Relationship between price and other variables are of main interest.\n",
    "\n",
    "2. Locality:\n",
    "- Location can significantly affect price.\n",
    "\n",
    "3. Living_Area and/or Land_Surface:\n",
    "- Size of the building and total plot can also affect price.\n",
    "\n",
    "4. Type:\n",
    "- Houses are usually more expensive than apartments.\n",
    "\n",
    "5. State:\n",
    "- if price is very low but house needs renovation, this could indicate a higher investment after the initial purchase."
   ]
  },
  {
   "cell_type": "markdown",
   "metadata": {},
   "source": [
    "## What are the most expensive municipalities in Belgium? (Average price, median price, price per square meter)\n"
   ]
  },
  {
   "cell_type": "markdown",
   "metadata": {},
   "source": [
    "## Heatmap of Belgium\n",
    "### Distribution of properties according to price"
   ]
  },
  {
   "cell_type": "code",
   "execution_count": 46,
   "metadata": {},
   "outputs": [],
   "source": [
    "# File with geo data\n",
    "df_map = pd.read_csv(\"Geo_Data.csv\")\n",
    "\n",
    "#extract latitude (X), longitude (Y) and price\n",
    "heat_data = [\n",
    "    [row['X'], row['Y'], row['Price']] for i, row in df_map.iterrows() if row['Price'] > 0\n",
    "]\n",
    "\n",
    "# base map centered on Belgium\n",
    "map_belgium = folium.Map(location=[50.8503, 4.3517], zoom_start=8)\n",
    "\n",
    "# Layer heatmap over basemap\n",
    "HeatMap(heat_data, radius=10, max_zoom=13).add_to(map_belgium)\n",
    "\n",
    "# Save as html file (interactive)\n",
    "map_belgium.save('belgium_property_heatmap.html')"
   ]
  },
  {
   "cell_type": "markdown",
   "metadata": {},
   "source": [
    "## Value for money index"
   ]
  },
  {
   "cell_type": "code",
   "execution_count": null,
   "metadata": {},
   "outputs": [],
   "source": []
  }
 ],
 "metadata": {
  "kernelspec": {
   "display_name": "Python 3",
   "language": "python",
   "name": "python3"
  },
  "language_info": {
   "codemirror_mode": {
    "name": "ipython",
    "version": 3
   },
   "file_extension": ".py",
   "mimetype": "text/x-python",
   "name": "python",
   "nbconvert_exporter": "python",
   "pygments_lexer": "ipython3",
   "version": "3.13.0"
  }
 },
 "nbformat": 4,
 "nbformat_minor": 2
}

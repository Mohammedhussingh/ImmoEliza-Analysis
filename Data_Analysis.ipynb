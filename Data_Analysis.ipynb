{
 "cells": [
  {
   "cell_type": "markdown",
   "metadata": {},
   "source": [
    "### The libraries"
   ]
  },
  {
   "cell_type": "code",
   "execution_count": 78,
   "metadata": {},
   "outputs": [],
   "source": [
    "import pandas as pd\n",
    "import numpy as np\n",
    "import matplotlib.pyplot as plt"
   ]
  },
  {
   "cell_type": "markdown",
   "metadata": {},
   "source": [
    "### Raeading Data"
   ]
  },
  {
   "cell_type": "code",
   "execution_count": 85,
   "metadata": {},
   "outputs": [],
   "source": [
    "Data= pd.read_csv(\"/home/learner/Desktop/Data Anlaysis/ImmoEliza-Analysis/Hussain - Cleaned_Data.csv\")"
   ]
  },
  {
   "cell_type": "code",
   "execution_count": 95,
   "metadata": {},
   "outputs": [
    {
     "name": "stdout",
     "output_type": "stream",
     "text": [
      "<class 'pandas.core.frame.DataFrame'>\n",
      "Index: 13615 entries, 0 to 13706\n",
      "Data columns (total 20 columns):\n",
      " #   Column               Non-Null Count  Dtype \n",
      "---  ------               --------------  ----- \n",
      " 0   Id                   13615 non-null  int64 \n",
      " 1   Locality             13615 non-null  object\n",
      " 2   Type                 13615 non-null  object\n",
      " 3   SubType              13615 non-null  object\n",
      " 4   Sale_Type            13615 non-null  object\n",
      " 5   Price                13615 non-null  int64 \n",
      " 6   Bedrooms             13615 non-null  int64 \n",
      " 7   Living_Area          13615 non-null  int64 \n",
      " 8   Is_Equiped_Kitchen   13615 non-null  bool  \n",
      " 9   Is_Furnished         13615 non-null  bool  \n",
      " 10  Is_Open_Fire         13615 non-null  bool  \n",
      " 11  Terrace              13615 non-null  bool  \n",
      " 12  Terrace_Area         13615 non-null  int64 \n",
      " 13  Garden               13615 non-null  bool  \n",
      " 14  Garden_Area          13615 non-null  int64 \n",
      " 15  Land_Surface         13615 non-null  int64 \n",
      " 16  Surface of the plot  13615 non-null  int64 \n",
      " 17  State                13615 non-null  object\n",
      " 18  Facades              13615 non-null  int64 \n",
      " 19  Swim_pool            13615 non-null  bool  \n",
      "dtypes: bool(6), int64(9), object(5)\n",
      "memory usage: 1.6+ MB\n"
     ]
    }
   ],
   "source": [
    "Data.info()"
   ]
  },
  {
   "cell_type": "code",
   "execution_count": 94,
   "metadata": {},
   "outputs": [
    {
     "data": {
      "text/html": [
       "<div>\n",
       "<style scoped>\n",
       "    .dataframe tbody tr th:only-of-type {\n",
       "        vertical-align: middle;\n",
       "    }\n",
       "\n",
       "    .dataframe tbody tr th {\n",
       "        vertical-align: top;\n",
       "    }\n",
       "\n",
       "    .dataframe thead th {\n",
       "        text-align: right;\n",
       "    }\n",
       "</style>\n",
       "<table border=\"1\" class=\"dataframe\">\n",
       "  <thead>\n",
       "    <tr style=\"text-align: right;\">\n",
       "      <th></th>\n",
       "      <th>Locality</th>\n",
       "      <th>Type</th>\n",
       "      <th>SubType</th>\n",
       "      <th>Sale_Type</th>\n",
       "      <th>State</th>\n",
       "    </tr>\n",
       "  </thead>\n",
       "  <tbody>\n",
       "    <tr>\n",
       "      <th>count</th>\n",
       "      <td>13615</td>\n",
       "      <td>13615</td>\n",
       "      <td>13615</td>\n",
       "      <td>13615</td>\n",
       "      <td>13615</td>\n",
       "    </tr>\n",
       "    <tr>\n",
       "      <th>unique</th>\n",
       "      <td>838</td>\n",
       "      <td>3</td>\n",
       "      <td>35</td>\n",
       "      <td>1</td>\n",
       "      <td>7</td>\n",
       "    </tr>\n",
       "    <tr>\n",
       "      <th>top</th>\n",
       "      <td>Knokke</td>\n",
       "      <td>Apartment</td>\n",
       "      <td>apartment</td>\n",
       "      <td>Private</td>\n",
       "      <td>Good</td>\n",
       "    </tr>\n",
       "    <tr>\n",
       "      <th>freq</th>\n",
       "      <td>411</td>\n",
       "      <td>5954</td>\n",
       "      <td>4648</td>\n",
       "      <td>13615</td>\n",
       "      <td>4307</td>\n",
       "    </tr>\n",
       "  </tbody>\n",
       "</table>\n",
       "</div>"
      ],
      "text/plain": [
       "       Locality       Type    SubType Sale_Type  State\n",
       "count     13615      13615      13615     13615  13615\n",
       "unique      838          3         35         1      7\n",
       "top      Knokke  Apartment  apartment   Private   Good\n",
       "freq        411       5954       4648     13615   4307"
      ]
     },
     "execution_count": 94,
     "metadata": {},
     "output_type": "execute_result"
    }
   ],
   "source": [
    "Data.describe(include=['object', 'category'])"
   ]
  },
  {
   "cell_type": "code",
   "execution_count": 93,
   "metadata": {},
   "outputs": [
    {
     "data": {
      "text/plain": [
       "count         13615\n",
       "mean         552726\n",
       "std        12880903\n",
       "min               0\n",
       "25%          225000\n",
       "50%          325000\n",
       "75%          480000\n",
       "max      1500001600\n",
       "Name: Price, dtype: int64"
      ]
     },
     "execution_count": 93,
     "metadata": {},
     "output_type": "execute_result"
    }
   ],
   "source": [
    "Data.Price.describe().astype(int)"
   ]
  },
  {
   "cell_type": "code",
   "execution_count": 92,
   "metadata": {},
   "outputs": [],
   "source": [
    "Data.drop_duplicates(inplace=True)"
   ]
  },
  {
   "cell_type": "markdown",
   "metadata": {},
   "source": [
    "### Data Anlysis"
   ]
  },
  {
   "cell_type": "markdown",
   "metadata": {},
   "source": [
    "How many rows and columns"
   ]
  },
  {
   "cell_type": "code",
   "execution_count": 98,
   "metadata": {},
   "outputs": [
    {
     "data": {
      "text/plain": [
       "(13615, 20)"
      ]
     },
     "execution_count": 98,
     "metadata": {},
     "output_type": "execute_result"
    }
   ],
   "source": [
    "Data.shape"
   ]
  },
  {
   "cell_type": "markdown",
   "metadata": {},
   "source": [
    "#### Extreme Values"
   ]
  },
  {
   "cell_type": "code",
   "execution_count": 96,
   "metadata": {},
   "outputs": [
    {
     "name": "stderr",
     "output_type": "stream",
     "text": [
      "/tmp/ipykernel_29274/597016515.py:3: FutureWarning: Series.__getitem__ treating keys as positions is deprecated. In a future version, integer keys will always be treated as labels (consistent with DataFrame behavior). To access a value by position, use `ser.iloc[pos]`\n",
      "  Extreme[0]\n"
     ]
    },
    {
     "data": {
      "text/plain": [
       "2004"
      ]
     },
     "execution_count": 96,
     "metadata": {},
     "output_type": "execute_result"
    }
   ],
   "source": [
    "filtered_count = Data[(Data.Price < 1000000) & (Data.Price > 100000)].count()\n",
    "Extreme =len(Data)-filtered_count\n",
    "Extreme[0]"
   ]
  },
  {
   "cell_type": "markdown",
   "metadata": {},
   "source": [
    "### Top ten localities in our data"
   ]
  },
  {
   "cell_type": "code",
   "execution_count": 97,
   "metadata": {},
   "outputs": [
    {
     "data": {
      "text/plain": [
       "Locality\n",
       "Knokke       411\n",
       "Antwerpen    393\n",
       "Oudergem     338\n",
       "Brussel      279\n",
       "Gent         269\n",
       "Ukkel        261\n",
       "Oostende     251\n",
       "Elsene       226\n",
       "Aalst        215\n",
       "Glain        160\n",
       "dtype: int64"
      ]
     },
     "execution_count": 97,
     "metadata": {},
     "output_type": "execute_result"
    },
    {
     "data": {
      "image/png": "[encoded data removed]",
      "text/plain": [
       "<Figure size 640x480 with 1 Axes>"
      ]
     },
     "metadata": {},
     "output_type": "display_data"
    }
   ],
   "source": [
    "Top_localities= Data.groupby(\"Locality\").size().sort_values(ascending=False).head(10)\n",
    "Top_localities.plot(kind='bar', color='skyblue', edgecolor=\"navy\")\n",
    "###or index, value in enumerate(Top_localities):\n",
    "   #### plt.text(index, value + 0.1, str(value), ha='center', va='bottom', fontsize=10)\n",
    "\n",
    "plt.title('Top 10 Localities by Count', fontsize=16)\n",
    "plt.xlabel('Locality')\n",
    "plt.ylabel('Count')\n",
    "plt.grid(axis='y', linestyle='--', alpha=1)\n",
    "Top_localities"
   ]
  },
  {
   "cell_type": "markdown",
   "metadata": {},
   "source": [
    "### Avg price per Locality"
   ]
  },
  {
   "cell_type": "code",
   "execution_count": 27,
   "metadata": {},
   "outputs": [
    {
     "data": {
      "text/plain": [
       "Locality             Type     \n",
       "Lendelede            House        375,223,400\n",
       "Barchon              House          7,823,850\n",
       "Ans                  Apartment      5,400,000\n",
       "Afsnee               Other          4,423,333\n",
       "Arsimont             House          4,126,950\n",
       "Deurle               Other          3,850,000\n",
       "Gontrode             Other          3,113,366\n",
       "Waasmunster          Other          3,000,000\n",
       "Sint-Joost-ten-Node  House          2,637,500\n",
       "Beerse               Other          2,450,000\n",
       "Name: Price, dtype: object"
      ]
     },
     "execution_count": 27,
     "metadata": {},
     "output_type": "execute_result"
    }
   ],
   "source": [
    "Data.groupby([\"Locality\",\"Type\"])[\"Price\"].mean().sort_values(ascending=False).head(10).astype(int).apply(lambda x: f'{x:,.0f}')"
   ]
  },
  {
   "cell_type": "markdown",
   "metadata": {},
   "source": [
    "### Avg Araea per Locality"
   ]
  },
  {
   "cell_type": "code",
   "execution_count": 47,
   "metadata": {},
   "outputs": [
    {
     "data": {
      "text/plain": [
       "Locality               Type     \n",
       "Sint-Joost-ten-Node    House        1681\n",
       "Bergilers              Apartment    1363\n",
       "Amblève                House         927\n",
       "Vosselaar              House         739\n",
       "Corbion                House         737\n",
       "Amblève                Apartment     721\n",
       "Houtave                House         719\n",
       "Bellevaux-Ligneuville  House         681\n",
       "Mont                   House         670\n",
       "Baardegem              Apartment     640\n",
       "Name: Living_Area, dtype: int64"
      ]
     },
     "execution_count": 47,
     "metadata": {},
     "output_type": "execute_result"
    }
   ],
   "source": [
    "filtered_data = Data[(Data[\"Type\"] == \"House\") | (Data[\"Type\"] == \"Apartment\")]\n",
    "result = filtered_data.groupby([\"Locality\", \"Type\"])[\"Living_Area\"].mean().sort_values(ascending=False).head(10).astype(int)\n",
    "result"
   ]
  },
  {
   "cell_type": "markdown",
   "metadata": {},
   "source": [
    "### Percentege Furnasherd"
   ]
  },
  {
   "cell_type": "code",
   "execution_count": 51,
   "metadata": {},
   "outputs": [
    {
     "data": {
      "text/plain": [
       "Is_Furnished\n",
       "False    11036\n",
       "True       341\n",
       "Name: Id, dtype: int64"
      ]
     },
     "execution_count": 51,
     "metadata": {},
     "output_type": "execute_result"
    }
   ],
   "source": [
    "filtered_data = Data[(Data[\"Type\"] == \"House\") | (Data[\"Type\"] == \"Apartment\")]\n",
    "filtered_data.groupby(\"Is_Furnished\").Id.count()"
   ]
  },
  {
   "cell_type": "code",
   "execution_count": null,
   "metadata": {},
   "outputs": [],
   "source": []
  }
 ],
 "metadata": {
  "kernelspec": {
   "display_name": "usr",
   "language": "python",
   "name": "python3"
  },
  "language_info": {
   "codemirror_mode": {
    "name": "ipython",
    "version": 3
   },
   "file_extension": ".py",
   "mimetype": "text/x-python",
   "name": "python",
   "nbconvert_exporter": "python",
   "pygments_lexer": "ipython3",
   "version": "3.12.3"
  }
 },
 "nbformat": 4,
 "nbformat_minor": 2
}
